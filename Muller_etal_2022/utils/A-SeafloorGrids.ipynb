{
 "cells": [
  {
   "cell_type": "markdown",
   "id": "55c02d4a",
   "metadata": {},
   "source": [
    "# Utility Notebook A - Seafloor Age and Spreading Rate Grids\n",
    "\n",
    "This is the first utility notebook. Please ensure [`gplately`](https://github.com/GPlates/gplately.git) is installed on your system using one of the following terminal command methods once you have created a conda environment:\n",
    "\n",
    "* **conda forge**: \n",
    "    ```python \n",
    "        conda install conda-forge::gplately\n",
    "    ```\n",
    "* **pip**: \n",
    "    ```python\n",
    "       pip install gplately\n",
    "    ```\n",
    "    \n",
    "* **git clone**\n",
    "    ```python\n",
    "        conda activate insert_conda_environment_here\n",
    "        git clone https://github.com/GPlates/gplately.git\n",
    "        cd gplately\n",
    "        pip install .\n",
    "    ```"
   ]
  },
  {
   "cell_type": "code",
   "execution_count": 1,
   "id": "c425186e",
   "metadata": {},
   "outputs": [],
   "source": [
    "# Import gplately and pygplates once it is installed\n",
    "import gplately\n",
    "from gplately import pygplates"
   ]
  },
  {
   "cell_type": "markdown",
   "id": "a523bfba",
   "metadata": {},
   "source": [
    "# 1. Upload plate model files\n",
    "\n",
    "You will need:\n",
    "\n",
    "1. A rotation model (`.rot` file)\n",
    "2. Topology features (`.gpml` or `.shp` file(s)) containing all reconstructible plate topologies. (Note: if using `.shp` files ensure that its corresponding `.dbf, .prj, .xml and .shx` files are in the same directory)\n",
    "3. Continents - (polygons in `.gpml` or `.shp` file(s))\n",
    "\n",
    "Optional: \n",
    "* Static polygons (`.gpml` or `.shp` file(s))\n",
    "* Coastlines (`.gpml` or `.shp` file(s))\n",
    "\n",
    "\n",
    "### If your plate model is hosted on GPlately's `DataServer` (see full list [here](https://gplates.github.io/gplately/#dataserver))...\n",
    "...get the model name string identifier and run the cell below. Otherwise skip this cell."
   ]
  },
  {
   "cell_type": "code",
   "execution_count": 2,
   "id": "b51a01d7",
   "metadata": {},
   "outputs": [
    {
     "name": "stdout",
     "output_type": "stream",
     "text": [
      "Checking whether the requested files need to be updated...\n",
      "Requested files are up-to-date!\n",
      "Checking whether the requested files need to be updated...\n",
      "Requested files are up-to-date!\n"
     ]
    }
   ],
   "source": [
    "# Type in the model identifier here\n",
    "model_id = \"Muller2022\"\n",
    "\n",
    "# Use GPlately's DataServer to get a rotation model, topology features and static polygons\n",
    "gdownload = gplately.download.DataServer(model_id, verbose=True)\n",
    "rotation_model, topology_features, static_polygons = gdownload.get_plate_reconstruction_files()\n",
    "\n",
    "# Use GPlately's DataServer to get coastlines and continents\n",
    "coastlines, continents, COBs = gdownload.get_topology_geometries()"
   ]
  },
  {
   "cell_type": "markdown",
   "id": "3bff4734",
   "metadata": {},
   "source": [
    "# OR \n",
    "### If your plate model is NOT hosted on GPlately's `DataServer`...\n",
    "...provide all paths to the required files in the cell below and run this cell instead."
   ]
  },
  {
   "cell_type": "code",
   "execution_count": 3,
   "id": "9a1a1f05",
   "metadata": {},
   "outputs": [],
   "source": [
    "input_directory = \"/Users/laurenilano/Downloads/Cao1.8Ga\"\n",
    "\n",
    "# Change the code to point to the rotation filenames\n",
    "rotation_filenames = [\n",
    "    \n",
    "    input_directory+'/optimisation/1000_0_rotfile_Merdith_et_al_Cao_new_ncc_git_20231016_run1.rot',\n",
    "    input_directory+'/optimisation/Rotation_file_1800_1000_no_ncc_new_SaoFrancisco_git_20231016_run1.rot'\n",
    "]\n",
    "\n",
    "rotation_model = pygplates.RotationModel(rotation_filenames)\n",
    "\n",
    "\n",
    "# Change the code to point to the topology feature filenames\n",
    "topology_filenames = [\n",
    "    input_directory+'/250-0_plate_boundaries_Merdith_et_al.gpml',\n",
    "    input_directory+'/1000-410-Topologies_Merdith_et_al_Cao.gpml',\n",
    "    input_directory+'/410-250_plate_boundaries_Merdith_et_al.gpml',\n",
    "    input_directory+'/1800-1000Ma-plate-boundary_new_valid_time_and_subduction_polarity.gpml',\n",
    "    input_directory+'/1000-410-Transforms_Merdith_et_al_Cao.gpml',\n",
    "    input_directory+'/TopologyBuildingBlocks_Merdith_et_al.gpml',\n",
    "    input_directory+'/1000-410-Convergence_Merdith_et_al_Cao.gpml',\n",
    "    input_directory+'/1000-410-Divergence_Merdith_et_al_Cao.gpml',\n",
    "    input_directory+'/Proterozoic_Poles.gpml'\n",
    "]\n",
    "\n",
    "# KEEP THESE 3 LINES AS-IS\n",
    "topology_features = pygplates.FeatureCollection()\n",
    "for topology_filename in topology_filenames:\n",
    "    topology_features.add( pygplates.FeatureCollection(topology_filename) )\n",
    "        \n",
    "\n",
    "# Change the code to point to the continent filename(s)\n",
    "continents = input_directory+'/shapes_continents_Cao.gpmlz'"
   ]
  },
  {
   "cell_type": "markdown",
   "id": "dba5310f",
   "metadata": {},
   "source": [
    " Once one of the cells above have been run, run this cell, keeping `time` as 1000Ma for now."
   ]
  },
  {
   "cell_type": "code",
   "execution_count": 4,
   "id": "09016bfa",
   "metadata": {},
   "outputs": [],
   "source": [
    "model = gplately.PlateReconstruction(rotation_model, topology_features)\n",
    "\n",
    "time = 1000\n",
    "gplot = gplately.PlotTopologies(model, time=time, continents=continents)"
   ]
  },
  {
   "cell_type": "markdown",
   "id": "f5ef4e2c",
   "metadata": {},
   "source": [
    "# 2. Call `SeafloorGrid` to build seafloor points through time\n",
    "\n",
    "`SeafloorGrid` is a gplately module that reconstructs mid-ocean ridges iteratively through time, and builds new ocean floor points from these ridges. At every timestep, new points emerge, and older points age/move outwards from their origin ridges. Eventually some points reach subduction zones or continent boundaries (from the topology files and the continent file you provided) and they are deleted. The iteration starts at `max_time` and ends at `min_time`."
   ]
  },
  {
   "cell_type": "code",
   "execution_count": 5,
   "id": "63f50cc9",
   "metadata": {},
   "outputs": [],
   "source": [
    "# The first and last time (in Myr) to build grids\n",
    "min_time = 990\n",
    "max_time = 1000\n",
    "\n",
    "# The interval between successive times (in Myr)\n",
    "ridge_time_step = 1. "
   ]
  },
  {
   "cell_type": "markdown",
   "id": "f930803d",
   "metadata": {},
   "source": [
    "Other input parameters"
   ]
  },
  {
   "cell_type": "code",
   "execution_count": 6,
   "id": "3f628a2c",
   "metadata": {},
   "outputs": [],
   "source": [
    "# In degrees, the spacing between points tessellated along a ridge. A smaller value is a finer ridge.\n",
    "ridge_sampling = 0.5\n",
    "\n",
    "# The degree spacing for the final regular grids\n",
    "grid_spacing = 0.1"
   ]
  },
  {
   "cell_type": "markdown",
   "id": "f6fa1b51",
   "metadata": {},
   "source": [
    "Full path to directory to save grids to - if it doesn't exist, it will be made automatically. Also provide a small string to name the grids, ideally the model's first author's surname and year of production, e.g. `Muller2022`"
   ]
  },
  {
   "cell_type": "code",
   "execution_count": 7,
   "id": "66105a6a",
   "metadata": {},
   "outputs": [],
   "source": [
    "# This is a folder where all gridding files are saved \n",
    "save_directory = \"/Volumes/Carbon/OTHER_FILES/Muller2022_v1.2_Grids_Feb3\"\n",
    "\n",
    "# A string to help name files according to a plate model.\n",
    "file_collection = \"Muller2022\""
   ]
  },
  {
   "cell_type": "markdown",
   "id": "9f572768",
   "metadata": {},
   "source": [
    "`SeafloorGrid` uses [`stripy`](https://github.com/underworldcode/stripy) which builds the first mesh of ocean points to start the gridding iteration. It requires an integer whose magnitude is proportional to the fineness of the global mesh. We typically use 6.\n",
    "\n",
    "The first timestep of the gridding iteration is populated with a uniform spreading rate. This creates a uniform profile of seafloor age at the first timestep. Over time, as points emerge from ridges, the plate model builds a proper spreading rate profile because plate velocities are encoded in the model. Most of these initial uniform points erode into trenches or continents through time. The initial rate is typically 100mm/yr. "
   ]
  },
  {
   "cell_type": "code",
   "execution_count": 8,
   "id": "db5e7b86",
   "metadata": {},
   "outputs": [],
   "source": [
    "# An integer whose magnitude is proportional to the fineness of the global mesh\n",
    "refinement_levels = 6\n",
    "\n",
    "# An initial spreading rate to kickstart the recursive gridding process. \n",
    "initial_ocean_mean_spreading_rate = 100. #mm/yr"
   ]
  },
  {
   "cell_type": "markdown",
   "id": "c387d5e5",
   "metadata": {},
   "source": [
    "Once we run the workflow and the process is interrupted before the `Reconstruct by topologies: working on time 1000.00 Ma` step, we can recover progress if `resume_from_checkpoints = True`.\n",
    "\n",
    "Otherwise, if it is interrupted during the stage `Reconstruct by topologies: working on time 1000.00 Ma` or after, we will need to restart the entire notebook as the ocean points are built iteratively."
   ]
  },
  {
   "cell_type": "code",
   "execution_count": 9,
   "id": "f8b901b2",
   "metadata": {},
   "outputs": [],
   "source": [
    "resume_from_checkpoints = True"
   ]
  },
  {
   "cell_type": "markdown",
   "id": "edca9a36",
   "metadata": {},
   "source": [
    "#### Continent contouring\n",
    "If set to `True`, the workflow builds a buffer around continent polygons through time. This will take an additional couple of hours. The default is True."
   ]
  },
  {
   "cell_type": "code",
   "execution_count": 10,
   "id": "bcdeb768",
   "metadata": {},
   "outputs": [],
   "source": [
    "contour_continents = True"
   ]
  },
  {
   "cell_type": "code",
   "execution_count": 11,
   "id": "ebe2cb6b",
   "metadata": {},
   "outputs": [],
   "source": [
    "seafloorgrid = gplately.oceanscontouring.SeafloorGrid(\n",
    "    model, \n",
    "    gplot, \n",
    "    \n",
    "    max_time = max_time,\n",
    "    min_time = min_time,\n",
    "\n",
    "    ridge_time_step = ridge_time_step,\n",
    "    ridge_sampling = ridge_sampling,\n",
    "    grid_spacing = grid_spacing,\n",
    "    \n",
    "    save_directory = save_directory,\n",
    "    file_collection = file_collection,\n",
    "\n",
    "    refinement_levels = refinement_levels,\n",
    "    initial_ocean_mean_spreading_rate = initial_ocean_mean_spreading_rate,\n",
    "    \n",
    "    resume_from_checkpoints = resume_from_checkpoints,\n",
    "    contour_continents=contour_continents,\n",
    "    \n",
    "    # So far, this does not need to be changed\n",
    "    zval_names = ['SPREADING_RATE'],\n",
    ")"
   ]
  },
  {
   "cell_type": "markdown",
   "id": "40e2f0a9",
   "metadata": {},
   "source": [
    "# 3. Begin reconstruction by topologies"
   ]
  },
  {
   "cell_type": "code",
   "execution_count": 16,
   "id": "d1baf715",
   "metadata": {},
   "outputs": [
    {
     "name": "stdout",
     "output_type": "stream",
     "text": [
      "Preparing all initial files...\n",
      "Finished building initial_ocean_seed_points!\n",
      "Creating contoured continent masks (this will take a couple of hours...)\n",
      "Finished continent contouring: 998.0Ma...\n",
      "Finished continent contouring: 993.0Ma...\n",
      "Finished continent contouring: 995.0Ma...\n",
      "Finished continent contouring: 996.0Ma...\n",
      "Finished continent contouring: 994.0Ma...\n",
      "Finished continent contouring: 997.0Ma...\n",
      "Finished continent contouring: 999.0Ma...\n",
      "Finished continent contouring: 1000.0Ma...\n",
      "Finished continent contouring: 992.0Ma...\n",
      "Finished continent contouring: 990.0Ma...\n",
      "Finished continent contouring: 991.0Ma...\n",
      "Saved 1000.0Ma contoured continental masks to netCDF!\n",
      "Saved 999.0Ma contoured continental masks to netCDF!\n",
      "Saved 998.0Ma contoured continental masks to netCDF!\n",
      "Saved 997.0Ma contoured continental masks to netCDF!\n",
      "Saved 996.0Ma contoured continental masks to netCDF!\n",
      "Saved 995.0Ma contoured continental masks to netCDF!\n",
      "Saved 994.0Ma contoured continental masks to netCDF!\n",
      "Saved 993.0Ma contoured continental masks to netCDF!\n",
      "Saved 992.0Ma contoured continental masks to netCDF!\n",
      "Saved 991.0Ma contoured continental masks to netCDF!\n",
      "Saved 990.0Ma contoured continental masks to netCDF!\n",
      "Saved contoured continents as a gpml file!\n",
      "Finished building MOR seedpoints at 1000.0 Ma!\n",
      "Finished building MOR seedpoints at 999.0 Ma!\n",
      "Finished building MOR seedpoints at 998.0 Ma!\n",
      "Finished building MOR seedpoints at 997.0 Ma!\n",
      "Finished building MOR seedpoints at 996.0 Ma!\n",
      "Finished building MOR seedpoints at 995.0 Ma!\n",
      "Finished building MOR seedpoints at 994.0 Ma!\n",
      "Finished building MOR seedpoints at 993.0 Ma!\n",
      "Finished building MOR seedpoints at 992.0 Ma!\n",
      "Finished building MOR seedpoints at 991.0 Ma!\n",
      "Finished building MOR seedpoints at 990.0 Ma!\n",
      "Reconstruct by topologies: working on time 1000.00 Ma\n",
      "Reconstruct by topologies: working on time 999.00 Ma\n",
      "Reconstruct by topologies: working on time 998.00 Ma\n",
      "Reconstruct by topologies: working on time 997.00 Ma\n",
      "Reconstruct by topologies: working on time 996.00 Ma\n",
      "Reconstruct by topologies: working on time 995.00 Ma\n",
      "Reconstruct by topologies: working on time 994.00 Ma\n",
      "Reconstruct by topologies: working on time 993.00 Ma\n",
      "Reconstruct by topologies: working on time 992.00 Ma\n",
      "Reconstruct by topologies: working on time 991.00 Ma\n",
      "Reconstruct by topologies: working on time 990.00 Ma\n",
      "Reconstruction done for 990.0!\n"
     ]
    }
   ],
   "source": [
    "seafloorgrid.reconstruct_by_topologies()"
   ]
  },
  {
   "cell_type": "code",
   "execution_count": 13,
   "id": "cd652d50",
   "metadata": {},
   "outputs": [
    {
     "data": {
      "text/plain": [
       "'/Volumes/Carbon/OTHER_FILES/Muller2022_v1.2_Grids_Feb3'"
      ]
     },
     "execution_count": 13,
     "metadata": {},
     "output_type": "execute_result"
    }
   ],
   "source": [
    "seafloorgrid.save_directory"
   ]
  },
  {
   "cell_type": "code",
   "execution_count": 14,
   "id": "1702a4f8",
   "metadata": {},
   "outputs": [
    {
     "data": {
      "text/plain": [
       "True"
      ]
     },
     "execution_count": 14,
     "metadata": {},
     "output_type": "execute_result"
    }
   ],
   "source": [
    "import os\n",
    "os.path.isdir(save_directory)"
   ]
  },
  {
   "cell_type": "code",
   "execution_count": 15,
   "id": "4ba7512c",
   "metadata": {},
   "outputs": [
    {
     "data": {
      "text/plain": [
       "'/Volumes/Carbon/OTHER_FILES/Muller2022_v1.2_Grids_Feb3'"
      ]
     },
     "execution_count": 15,
     "metadata": {},
     "output_type": "execute_result"
    }
   ],
   "source": [
    "save_directory"
   ]
  },
  {
   "cell_type": "code",
   "execution_count": null,
   "id": "5afe563d",
   "metadata": {},
   "outputs": [],
   "source": []
  }
 ],
 "metadata": {
  "kernelspec": {
   "display_name": "Python 3 (ipykernel)",
   "language": "python",
   "name": "python3"
  },
  "language_info": {
   "codemirror_mode": {
    "name": "ipython",
    "version": 3
   },
   "file_extension": ".py",
   "mimetype": "text/x-python",
   "name": "python",
   "nbconvert_exporter": "python",
   "pygments_lexer": "ipython3",
   "version": "3.9.15"
  }
 },
 "nbformat": 4,
 "nbformat_minor": 5
}
